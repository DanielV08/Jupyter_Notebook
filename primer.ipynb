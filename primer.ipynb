{
  "nbformat": 4,
  "nbformat_minor": 5,
  "metadata": {
    "kernelspec": {
      "display_name": "Python 3",
      "language": "python",
      "name": "python3"
    },
    "language_info": {
      "codemirror_mode": {
        "name": "ipython",
        "version": 3
      },
      "file_extension": ".py",
      "mimetype": "text/x-python",
      "name": "python",
      "nbconvert_exporter": "python",
      "pygments_lexer": "ipython3",
      "version": "3.8.8"
    },
    "colab": {
      "name": "primer.ipynb",
      "provenance": []
    }
  },
  "cells": [
    {
      "cell_type": "code",
      "metadata": {
        "id": "ce0b0eb6-92f3-4d50-8dc5-76159805d743",
        "outputId": "544b34e8-0750-42e0-c04e-d1c5e83b1a33"
      },
      "source": [
        "print(\"hello\")"
      ],
      "id": "ce0b0eb6-92f3-4d50-8dc5-76159805d743",
      "execution_count": null,
      "outputs": [
        {
          "output_type": "stream",
          "text": [
            "hello\n"
          ],
          "name": "stdout"
        }
      ]
    },
    {
      "cell_type": "code",
      "metadata": {
        "id": "VU1pn8WbR8sy",
        "outputId": "5b9c467d-b3ea-4153-c22a-60d1f862e157",
        "colab": {
          "base_uri": "https://localhost:8080/"
        }
      },
      "source": [
        "print (\"ansodiansd\")"
      ],
      "id": "VU1pn8WbR8sy",
      "execution_count": 1,
      "outputs": [
        {
          "output_type": "stream",
          "text": [
            "ansodiansd\n"
          ],
          "name": "stdout"
        }
      ]
    }
  ]
}